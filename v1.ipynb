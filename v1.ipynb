{
 "cells": [
  {
   "cell_type": "code",
   "execution_count": 2,
   "metadata": {
    "collapsed": true
   },
   "outputs": [
    {
     "name": "stderr",
     "output_type": "stream",
     "text": [
      "/Users/vrotmanh/Documents/Cornell/Spring 2018/Spec/Anomaly/venv/lib/python3.6/site-packages/statsmodels/compat/pandas.py:56: FutureWarning: The pandas.core.datetools module is deprecated and will be removed in a future version. Please use the pandas.tseries module instead.\n  from pandas.core import datetools\n"
     ]
    }
   ],
   "source": [
    "%matplotlib inline\n",
    "import csv\n",
    "import numpy as np\n",
    "import matplotlib.pyplot as plt\n",
    "import random\n",
    "import statsmodels.api as smapi\n",
    "import statsmodels.graphics as smgraphics\n",
    "from sklearn.metrics import mean_squared_error, r2_score\n",
    "from sklearn import linear_model"
   ]
  },
  {
   "cell_type": "code",
   "execution_count": 3,
   "metadata": {
    "collapsed": true
   },
   "outputs": [],
   "source": [
    "# Load Linear Train Data\n",
    "linear_data = []\n",
    "linear_labels = []\n",
    "with open('linear/train.csv') as csvfile:\n",
    "    reader = csv.DictReader(csvfile)\n",
    "    for row in reader:\n",
    "        # To avoid bad data\n",
    "        if row['x'] and row['y']:\n",
    "            linear_data.append(float(row['x']))\n",
    "            linear_labels.append(float(row['y']))"
   ]
  },
  {
   "cell_type": "code",
   "execution_count": 4,
   "metadata": {
    "collapsed": true
   },
   "outputs": [],
   "source": [
    "#Plot original data\n",
    "def plot_data(data, labels):\n",
    "    plt.plot(data, labels, 'bo')\n",
    "    \n",
    "#Plot anomalies\n",
    "def plot_anomalies_data(data, labels, anomalies_data, anomalies_labels):\n",
    "    plt.plot(anomalies_data, anomalies_labels, 'ro')\n",
    "    plt.plot(data, labels, 'bo')\n",
    "    plt.show()"
   ]
  },
  {
   "cell_type": "code",
   "execution_count": 5,
   "metadata": {},
   "outputs": [
    {
     "data": {
      "image/png": "[encoded data removed]",
      "text/plain": [
       "<Figure size 432x288 with 1 Axes>"
      ]
     },
     "metadata": {},
     "output_type": "display_data"
    }
   ],
   "source": [
    "plot_data(linear_data, linear_labels)"
   ]
  },
  {
   "cell_type": "code",
   "execution_count": 6,
   "metadata": {
    "collapsed": true
   },
   "outputs": [],
   "source": [
    "#Generate random point\n",
    "#def generate_random_point(min_val, max_val):\n",
    "#   return random.uniform(min_val, max_val)\n",
    "\n",
    "#Add random points to the data\n",
    "def add_random_points(number, dataset, label):\n",
    "    res_data = dataset\n",
    "    res_label = label\n",
    "    maxX = max(dataset)\n",
    "    minX = min(dataset)\n",
    "    maxY = max(label)\n",
    "    minY = min(label)\n",
    "    random_points_x = np.random.uniform(low=minX, high=maxX, size=(number,))\n",
    "    random_points_y = np.random.uniform(low=minY, high=maxY, size=(number,))\n",
    "    data = np.concatenate((np.array(res_data), np.array(random_points_x)), axis=0)\n",
    "    labels = np.concatenate((np.array(res_label), np.array(random_points_y)), axis=0)\n",
    "    return data, labels"
   ]
  },
  {
   "cell_type": "code",
   "execution_count": 7,
   "metadata": {},
   "outputs": [
    {
     "data": {
      "image/png": "[encoded data removed]",
      "text/plain": [
       "<Figure size 432x288 with 1 Axes>"
      ]
     },
     "metadata": {},
     "output_type": "display_data"
    }
   ],
   "source": [
    "#Add random point to data\n",
    "dataRand, labelsRand = add_random_points(10, linear_data, linear_labels)\n",
    "plot_data(dataRand, labelsRand)"
   ]
  },
  {
   "cell_type": "code",
   "execution_count": 8,
   "metadata": {
    "collapsed": true
   },
   "outputs": [],
   "source": [
    "data2 = dataRand\n",
    "labels2 = labelsRand"
   ]
  },
  {
   "cell_type": "code",
   "execution_count": 9,
   "metadata": {
    "collapsed": true
   },
   "outputs": [],
   "source": [
    "#Fit model using linear regression\n",
    "def fit_linear_regression(data, labels):\n",
    "    regr = linear_model.LinearRegression()\n",
    "    regr.fit(data[:, np.newaxis], labels)\n",
    "    predicted_labels = regr.predict(data[:, np.newaxis])\n",
    "    s = mean_squared_error(labels, predicted_labels)\n",
    "    return s, predicted_labels"
   ]
  },
  {
   "cell_type": "code",
   "execution_count": 10,
   "metadata": {
    "collapsed": true
   },
   "outputs": [
    {
     "name": "stderr",
     "output_type": "stream",
     "text": [
      "/Users/vrotmanh/Documents/Cornell/Spring 2018/Spec/Anomaly/venv/lib/python3.6/site-packages/scipy/linalg/basic.py:1226: RuntimeWarning: internal gelsd driver lwork query error, required iwork dimension not returned. This is likely the result of LAPACK bug 0038, fixed in LAPACK 3.2.2 (released July 21, 2010). Falling back to 'gelss' driver.\n  warnings.warn(mesg, RuntimeWarning)\n"
     ]
    }
   ],
   "source": [
    "s, predicted_labels = fit_linear_regression(data2, labels2)"
   ]
  },
  {
   "cell_type": "code",
   "execution_count": 11,
   "metadata": {
    "collapsed": true
   },
   "outputs": [],
   "source": [
    "#Calculate cooks distance\n",
    "def get_cooks_distance(data, labels):\n",
    "    fitted = smapi.OLS(data2, labels2).fit()\n",
    "    influence = fitted.get_influence()\n",
    "    #c is the distance and p is p-value\n",
    "    (c, p) = influence.cooks_distance\n",
    "    plt.stem(np.arange(len(c)), c, markerfmt=\",\")\n",
    "    return c"
   ]
  },
  {
   "cell_type": "code",
   "execution_count": 12,
   "metadata": {},
   "outputs": [
    {
     "data": {
      "image/png": "[encoded data removed]",
      "text/plain": [
       "<Figure size 432x288 with 1 Axes>"
      ]
     },
     "metadata": {},
     "output_type": "display_data"
    }
   ],
   "source": [
    "distance = get_cooks_distance(data2, labels2)"
   ]
  },
  {
   "cell_type": "code",
   "execution_count": 13,
   "metadata": {},
   "outputs": [],
   "source": [
    "def detect_anomalies(data, labels, distance, predicted_labels):\n",
    "    anomalies = {}\n",
    "    anomalies_diff = {}\n",
    "    for i in range(len(data)):\n",
    "        diff = abs(labels[i] - predicted_labels[i])\n",
    "        dist_mod = distance\n",
    "        \n",
    "#         print('initial: ',distance[i])\n",
    "        \n",
    "        if distance[i] < 1:\n",
    "#             print('less than one')\n",
    "            string = str(distance[i])\n",
    "#             print('str: ',string)\n",
    "            if string.find('-') != -1:\n",
    "                d = int(string.partition('-')[2])\n",
    "#                 print('power: ',d)\n",
    "                dist_mod[i] = distance[i]*(10**d)\n",
    "            else:\n",
    "                point_part = str(int(string.partition('.')[2]))\n",
    "                len_diff = len(string) - len(point_part) - 1\n",
    "#                 print('power: ',len_diff)\n",
    "                dist_mod[i] = distance[i]*(10**len_diff)\n",
    "        \n",
    "#         print('diff: ',diff)\n",
    "#         print('dist: ',dist_mod[i])\n",
    "        \n",
    "        if diff > dist_mod[i]:\n",
    "            anomalies[i] = True\n",
    "            anomalies_diff[i] = int(round(diff - dist_mod[i]))\n",
    "        else:\n",
    "            anomalies[i] = False\n",
    "            \n",
    "    return anomalies, anomalies_diff"
   ]
  },
  {
   "cell_type": "code",
   "execution_count": 14,
   "metadata": {},
   "outputs": [],
   "source": [
    "anomalies, anomalies_diff = detect_anomalies(data2, labels2, distance, predicted_labels)"
   ]
  },
  {
   "cell_type": "code",
   "execution_count": 15,
   "metadata": {},
   "outputs": [
    {
     "name": "stdout",
     "output_type": "stream",
     "text": [
      "215\n"
     ]
    }
   ],
   "source": [
    "trueA = list(anomalies.values())\n",
    "print(trueA.count(True))"
   ]
  },
  {
   "cell_type": "code",
   "execution_count": 16,
   "metadata": {},
   "outputs": [],
   "source": [
    "anomalies_diff"
   ]
  },
  {
   "cell_type": "code",
   "execution_count": 16,
   "metadata": {},
   "outputs": [],
   "source": [
    "from collections import Counter\n",
    "\n",
    "def get_least_frequent(anomalies,anomalies_diff):\n",
    "    lst = list(anomalies_diff.values())\n",
    "    cnt = Counter(lst)\n",
    "#     mincnt = min(cnt.values())\n",
    "#     minval = next(n for n in reversed(lst) if cnt[n] == mincnt)\n",
    "    \n",
    "    return int(np.mean(list(cnt.values())))"
   ]
  },
  {
   "cell_type": "code",
   "execution_count": 17,
   "metadata": {},
   "outputs": [],
   "source": [
    "threshold = get_least_frequent(anomalies,anomalies_diff)"
   ]
  },
  {
   "cell_type": "code",
   "execution_count": 18,
   "metadata": {
    "collapsed": true
   },
   "outputs": [],
   "source": [
    "data3 = []\n",
    "labels3 = []\n",
    "anomalies_data = []\n",
    "anomalies_labels = []\n",
    "\n",
    "for i in range(len(data2)):\n",
    "    if anomalies[i] == True:\n",
    "        if anomalies_diff[i] > threshold:\n",
    "            anomalies_data.append(data2[i])\n",
    "            anomalies_labels.append(labels2[i])\n",
    "        else: \n",
    "            data3.append(data2[i])\n",
    "            labels3.append(labels2[i])\n",
    "    elif anomalies[i] == False:\n",
    "        data3.append(data2[i])\n",
    "        labels3.append(labels2[i])"
   ]
  },
  {
   "cell_type": "code",
   "execution_count": 19,
   "metadata": {},
   "outputs": [
    {
     "data": {
      "image/png": "[encoded data removed]",
      "text/plain": [
       "<Figure size 432x288 with 1 Axes>"
      ]
     },
     "metadata": {},
     "output_type": "display_data"
    }
   ],
   "source": [
    "plot_anomalies_data(data3, labels3, anomalies_data, anomalies_labels)"
   ]
  },
  {
   "cell_type": "code",
   "execution_count": 49,
   "metadata": {
    "collapsed": true
   },
   "outputs": [],
   "source": [
    "from scipy.interpolate import spline\n",
    "\n",
    "def anomaly_border(data3, labels3, anomalies_data, anomalies_labels, data2, label_mod):   \n",
    "    plt.plot(anomalies_data, anomalies_labels, 'ro')\n",
    "    plt.plot(data3, labels3, 'bo')\n",
    "    \n",
    "    top_border = []\n",
    "    bottom_border = []\n",
    "    for i in range(len(data3)):\n",
    "        top_border.append(predicted_labels[i] + threshold)\n",
    "        bottom_border.append(predicted_labels[i] - threshold)\n",
    "        \n",
    "    plt.plot(data3, top_border, 'go')\n",
    "    plt.plot(data3, bottom_border, 'go')\n",
    "    \n",
    "    #xnew = np.linspace(min(data2),max(data2),len(data2))\n",
    "    #label_smooth = spline(data2,label_mod,xnew)\n",
    "    #plt.plot(xnew,label_smooth)\n",
    "    \n",
    "    plt.show()"
   ]
  },
  {
   "cell_type": "code",
   "execution_count": 50,
   "metadata": {
    "collapsed": true
   },
   "outputs": [],
   "source": [
    "label_mod = []\n",
    "for i in range(len(labels2)):\n",
    "    label_mod.append(labels2[i]+threshold)"
   ]
  },
  {
   "cell_type": "code",
   "execution_count": 51,
   "metadata": {},
   "outputs": [
    {
     "data": {
      "image/png": "[encoded data removed]",
      "text/plain": [
       "<Figure size 432x288 with 1 Axes>"
      ]
     },
     "metadata": {},
     "output_type": "display_data"
    }
   ],
   "source": [
    "anomaly_border(data3, labels3, anomalies_data, anomalies_labels, data2, label_mod)"
   ]
  },
  {
   "cell_type": "code",
   "execution_count": null,
   "metadata": {
    "collapsed": true
   },
   "outputs": [],
   "source": []
  }
 ],
 "metadata": {
  "kernelspec": {
   "display_name": "Python 3",
   "language": "python",
   "name": "python3"
  },
  "language_info": {
   "codemirror_mode": {
    "name": "ipython",
    "version": 3
   },
   "file_extension": ".py",
   "mimetype": "text/x-python",
   "name": "python",
   "nbconvert_exporter": "python",
   "pygments_lexer": "ipython3",
   "version": "3.6.1"
  }
 },
 "nbformat": 4,
 "nbformat_minor": 1
}
