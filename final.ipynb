{
 "cells": [
  {
   "cell_type": "code",
   "execution_count": 294,
   "metadata": {
    "collapsed": true
   },
   "outputs": [],
   "source": [
    "%matplotlib inline\n",
    "import csv\n",
    "import numpy as np\n",
    "import matplotlib.pyplot as plt\n",
    "import random\n",
    "import statsmodels.api as smapi\n",
    "import statsmodels.graphics as smgraphics\n",
    "from sklearn.metrics import mean_squared_error, r2_score\n",
    "from sklearn import linear_model"
   ]
  },
  {
   "cell_type": "code",
   "execution_count": 295,
   "metadata": {
    "collapsed": true
   },
   "outputs": [],
   "source": [
    "# Load Linear Train Data\n",
    "linear_data = []\n",
    "linear_labels = []\n",
    "with open('linear/train.csv') as csvfile:\n",
    "    reader = csv.DictReader(csvfile)\n",
    "    for row in reader:\n",
    "        # To avoid bad data\n",
    "        if row['x'] and row['y']:\n",
    "            linear_data.append(float(row['x']))\n",
    "            linear_labels.append(float(row['y']))"
   ]
  },
  {
   "cell_type": "code",
   "execution_count": 296,
   "metadata": {
    "collapsed": true
   },
   "outputs": [],
   "source": [
    "#Plot original data\n",
    "def plot_data(data, labels):\n",
    "    plt.plot(data, labels, 'bo')\n",
    "    \n",
    "#Plot anomalies\n",
    "def plot_anomalies_data(data, labels, anomalies_data, anomalies_labels):\n",
    "    plt.plot(anomalies_data, anomalies_labels, 'ro')\n",
    "    plt.plot(data, labels, 'bo')\n",
    "    plt.show()"
   ]
  },
  {
   "cell_type": "code",
   "execution_count": 297,
   "metadata": {},
   "outputs": [
    {
     "data": {
      "image/png": "[encoded data removed]",
      "text/plain": [
       "<matplotlib.figure.Figure at 0x11d5f9da0>"
      ]
     },
     "metadata": {},
     "output_type": "display_data"
    }
   ],
   "source": [
    "plot_data(linear_data, linear_labels)"
   ]
  },
  {
   "cell_type": "code",
   "execution_count": 298,
   "metadata": {
    "collapsed": true
   },
   "outputs": [],
   "source": [
    "#Generate random point\n",
    "#def generate_random_point(min_val, max_val):\n",
    "#   return random.uniform(min_val, max_val)\n",
    "\n",
    "#Add random points to the data\n",
    "def add_random_points(number, dataset, label):\n",
    "    res_data = dataset\n",
    "    res_label = label\n",
    "    maxX = max(dataset)\n",
    "    minX = min(dataset)\n",
    "    maxY = max(label)\n",
    "    minY = min(label)\n",
    "    random_points_x = np.random.uniform(low=minX, high=maxX, size=(number,))\n",
    "    random_points_y = np.random.uniform(low=minY, high=maxY, size=(number,))\n",
    "    data = np.concatenate((np.array(res_data), np.array(random_points_x)), axis=0)\n",
    "    labels = np.concatenate((np.array(res_label), np.array(random_points_y)), axis=0)\n",
    "    return data, labels"
   ]
  },
  {
   "cell_type": "code",
   "execution_count": 299,
   "metadata": {},
   "outputs": [
    {
     "data": {
      "image/png": "[encoded data removed]",
      "text/plain": [
       "<matplotlib.figure.Figure at 0x11e2f4b70>"
      ]
     },
     "metadata": {},
     "output_type": "display_data"
    }
   ],
   "source": [
    "#Add random point to data\n",
    "dataRand, labelsRand = add_random_points(10, linear_data, linear_labels)\n",
    "plot_data(dataRand, labelsRand)"
   ]
  },
  {
   "cell_type": "code",
   "execution_count": 300,
   "metadata": {
    "collapsed": true
   },
   "outputs": [],
   "source": [
    "data2 = dataRand\n",
    "labels2 = labelsRand"
   ]
  },
  {
   "cell_type": "code",
   "execution_count": 301,
   "metadata": {
    "collapsed": true
   },
   "outputs": [],
   "source": [
    "#Fit model using linear regression\n",
    "def fit_linear_regression(data, labels):\n",
    "    regr = linear_model.LinearRegression()\n",
    "    regr.fit(data[:, np.newaxis], labels)\n",
    "    predicted_labels = regr.predict(data[:, np.newaxis])\n",
    "    s = mean_squared_error(labels, predicted_labels)\n",
    "    return s, predicted_labels"
   ]
  },
  {
   "cell_type": "code",
   "execution_count": 302,
   "metadata": {
    "collapsed": true
   },
   "outputs": [],
   "source": [
    "s, predicted_labels = fit_linear_regression(data2, labels2)"
   ]
  },
  {
   "cell_type": "code",
   "execution_count": 303,
   "metadata": {
    "collapsed": true
   },
   "outputs": [],
   "source": [
    "#Calculate cooks distance\n",
    "def get_cooks_distance(data, labels):\n",
    "    fitted = smapi.OLS(data2, labels2).fit()\n",
    "    influence = fitted.get_influence()\n",
    "    #c is the distance and p is p-value\n",
    "    (c, p) = influence.cooks_distance\n",
    "    plt.stem(np.arange(len(c)), c, markerfmt=\",\")\n",
    "    return c"
   ]
  },
  {
   "cell_type": "code",
   "execution_count": 304,
   "metadata": {},
   "outputs": [
    {
     "data": {
      "image/png": "[encoded data removed]",
      "text/plain": [
       "<matplotlib.figure.Figure at 0x11d1249b0>"
      ]
     },
     "metadata": {},
     "output_type": "display_data"
    }
   ],
   "source": [
    "distance = get_cooks_distance(data2, labels2)"
   ]
  },
  {
   "cell_type": "code",
   "execution_count": 306,
   "metadata": {},
   "outputs": [],
   "source": [
    "def detect_anomalies(data, labels, distance, predicted_labels):\n",
    "    anomalies = {}\n",
    "    anomalies_diff = {}\n",
    "    for i in range(len(data)):\n",
    "        diff = abs(labels[i] - predicted_labels[i])\n",
    "        dist_mod = distance\n",
    "        \n",
    "#         print('initial: ',distance[i])\n",
    "        \n",
    "        if distance[i] < 1:\n",
    "#             print('less than one')\n",
    "            string = str(distance[i])\n",
    "#             print('str: ',string)\n",
    "            if string.find('-') != -1:\n",
    "                d = int(string.partition('-')[2])\n",
    "#                 print('power: ',d)\n",
    "                dist_mod[i] = distance[i]*(10**d)\n",
    "            else:\n",
    "                point_part = str(int(string.partition('.')[2]))\n",
    "                len_diff = len(string) - len(point_part) - 1\n",
    "#                 print('power: ',len_diff)\n",
    "                dist_mod[i] = distance[i]*(10**len_diff)\n",
    "        \n",
    "#         print('diff: ',diff)\n",
    "#         print('dist: ',dist_mod[i])\n",
    "        \n",
    "        if diff > dist_mod[i]:\n",
    "            anomalies[i] = True\n",
    "            anomalies_diff[i] = int(round(diff - dist_mod[i]))\n",
    "        else:\n",
    "            anomalies[i] = False\n",
    "            \n",
    "    return anomalies, anomalies_diff"
   ]
  },
  {
   "cell_type": "code",
   "execution_count": 307,
   "metadata": {},
   "outputs": [],
   "source": [
    "anomalies, anomalies_diff = detect_anomalies(data2, labels2, distance, predicted_labels)"
   ]
  },
  {
   "cell_type": "code",
   "execution_count": 308,
   "metadata": {},
   "outputs": [
    {
     "name": "stdout",
     "output_type": "stream",
     "text": [
      "206\n"
     ]
    }
   ],
   "source": [
    "trueA = list(anomalies.values())\n",
    "print(trueA.count(True))"
   ]
  },
  {
   "cell_type": "code",
   "execution_count": 314,
   "metadata": {},
   "outputs": [
    {
     "data": {
      "text/plain": [
       "{2: 0,\n",
       " 5: 2,\n",
       " 10: 1,\n",
       " 11: 1,\n",
       " 14: 4,\n",
       " 19: 3,\n",
       " 27: 3,\n",
       " 28: 3,\n",
       " 34: 1,\n",
       " 39: 4,\n",
       " 44: 1,\n",
       " 45: 1,\n",
       " 53: 1,\n",
       " 55: 1,\n",
       " 56: 3,\n",
       " 57: 4,\n",
       " 68: 4,\n",
       " 70: 1,\n",
       " 72: 3,\n",
       " 74: 2,\n",
       " 75: 1,\n",
       " 81: 2,\n",
       " 82: 3,\n",
       " 86: 2,\n",
       " 89: 1,\n",
       " 92: 6,\n",
       " 98: 2,\n",
       " 101: 3,\n",
       " 112: 1,\n",
       " 122: 1,\n",
       " 124: 4,\n",
       " 126: 1,\n",
       " 130: 3,\n",
       " 131: 1,\n",
       " 132: 4,\n",
       " 133: 3,\n",
       " 134: 2,\n",
       " 135: 1,\n",
       " 136: 0,\n",
       " 137: 2,\n",
       " 141: 2,\n",
       " 144: 0,\n",
       " 146: 1,\n",
       " 150: 2,\n",
       " 152: 3,\n",
       " 154: 1,\n",
       " 157: 1,\n",
       " 158: 1,\n",
       " 159: 1,\n",
       " 163: 1,\n",
       " 166: 1,\n",
       " 169: 1,\n",
       " 170: 2,\n",
       " 172: 1,\n",
       " 174: 0,\n",
       " 176: 2,\n",
       " 177: 3,\n",
       " 184: 2,\n",
       " 189: 1,\n",
       " 196: 2,\n",
       " 197: 4,\n",
       " 202: 1,\n",
       " 204: 4,\n",
       " 207: 1,\n",
       " 213: 0,\n",
       " 221: 0,\n",
       " 224: 3,\n",
       " 229: 1,\n",
       " 231: 1,\n",
       " 232: 0,\n",
       " 234: 4,\n",
       " 235: 3,\n",
       " 237: 1,\n",
       " 246: 1,\n",
       " 253: 4,\n",
       " 256: 4,\n",
       " 259: 3,\n",
       " 263: 2,\n",
       " 266: 1,\n",
       " 271: 0,\n",
       " 272: 3,\n",
       " 285: 3,\n",
       " 286: 0,\n",
       " 290: 1,\n",
       " 292: 1,\n",
       " 295: 2,\n",
       " 300: 1,\n",
       " 301: 1,\n",
       " 302: 1,\n",
       " 303: 5,\n",
       " 305: 3,\n",
       " 306: 3,\n",
       " 309: 2,\n",
       " 310: 1,\n",
       " 323: 2,\n",
       " 325: 0,\n",
       " 329: 4,\n",
       " 335: 1,\n",
       " 338: 0,\n",
       " 341: 3,\n",
       " 343: 2,\n",
       " 358: 2,\n",
       " 360: 0,\n",
       " 364: 1,\n",
       " 370: 1,\n",
       " 378: 1,\n",
       " 379: 1,\n",
       " 384: 0,\n",
       " 391: 0,\n",
       " 394: 3,\n",
       " 396: 0,\n",
       " 397: 0,\n",
       " 399: 4,\n",
       " 403: 0,\n",
       " 407: 0,\n",
       " 409: 1,\n",
       " 410: 3,\n",
       " 411: 0,\n",
       " 412: 1,\n",
       " 413: 3,\n",
       " 420: 1,\n",
       " 425: 4,\n",
       " 426: 3,\n",
       " 431: 1,\n",
       " 433: 1,\n",
       " 439: 1,\n",
       " 445: 3,\n",
       " 456: 3,\n",
       " 457: 1,\n",
       " 458: 1,\n",
       " 459: 1,\n",
       " 465: 0,\n",
       " 469: 1,\n",
       " 484: 3,\n",
       " 491: 3,\n",
       " 499: 1,\n",
       " 502: 5,\n",
       " 503: 1,\n",
       " 507: 1,\n",
       " 517: 0,\n",
       " 523: 1,\n",
       " 525: 1,\n",
       " 527: 2,\n",
       " 533: 0,\n",
       " 539: 3,\n",
       " 541: 5,\n",
       " 543: 1,\n",
       " 549: 2,\n",
       " 551: 2,\n",
       " 552: 4,\n",
       " 556: 3,\n",
       " 558: 1,\n",
       " 560: 2,\n",
       " 563: 0,\n",
       " 569: 2,\n",
       " 573: 0,\n",
       " 574: 1,\n",
       " 577: 1,\n",
       " 587: 2,\n",
       " 589: 4,\n",
       " 593: 1,\n",
       " 603: 1,\n",
       " 604: 5,\n",
       " 605: 1,\n",
       " 622: 1,\n",
       " 624: 0,\n",
       " 626: 1,\n",
       " 627: 1,\n",
       " 630: 1,\n",
       " 631: 8,\n",
       " 633: 1,\n",
       " 638: 3,\n",
       " 640: 2,\n",
       " 643: 1,\n",
       " 644: 1,\n",
       " 646: 1,\n",
       " 648: 2,\n",
       " 650: 1,\n",
       " 651: 2,\n",
       " 653: 1,\n",
       " 655: 1,\n",
       " 658: 2,\n",
       " 660: 8,\n",
       " 661: 1,\n",
       " 662: 1,\n",
       " 666: 4,\n",
       " 668: 4,\n",
       " 674: 1,\n",
       " 679: 0,\n",
       " 681: 1,\n",
       " 684: 1,\n",
       " 688: 0,\n",
       " 689: 2,\n",
       " 690: 1,\n",
       " 691: 2,\n",
       " 696: 3,\n",
       " 699: 41,\n",
       " 700: 35,\n",
       " 701: 48,\n",
       " 702: 41,\n",
       " 703: 27,\n",
       " 704: 5,\n",
       " 705: 23,\n",
       " 706: 18,\n",
       " 707: 21,\n",
       " 708: 65}"
      ]
     },
     "execution_count": 314,
     "metadata": {},
     "output_type": "execute_result"
    }
   ],
   "source": [
    "anomalies_diff"
   ]
  },
  {
   "cell_type": "code",
   "execution_count": 322,
   "metadata": {},
   "outputs": [],
   "source": [
    "from collections import Counter\n",
    "\n",
    "def get_least_frequent(anomalies,anomalies_diff):\n",
    "    lst = list(anomalies_diff.values())\n",
    "    cnt = Counter(lst)\n",
    "#     mincnt = min(cnt.values())\n",
    "#     minval = next(n for n in reversed(lst) if cnt[n] == mincnt)\n",
    "    \n",
    "    return int(np.mean(list(cnt.values())))"
   ]
  },
  {
   "cell_type": "code",
   "execution_count": 323,
   "metadata": {},
   "outputs": [],
   "source": [
    "threshold = get_least_frequent(anomalies,anomalies_diff)"
   ]
  },
  {
   "cell_type": "code",
   "execution_count": 324,
   "metadata": {
    "collapsed": true
   },
   "outputs": [],
   "source": [
    "data3 = []\n",
    "labels3 = []\n",
    "anomalies_data = []\n",
    "anomalies_labels = []\n",
    "\n",
    "for i in range(len(data2)):\n",
    "    if anomalies[i] == True:\n",
    "        if anomalies_diff[i] > threshold:\n",
    "            anomalies_data.append(data2[i])\n",
    "            anomalies_labels.append(labels2[i])\n",
    "        else: \n",
    "            data3.append(data2[i])\n",
    "            labels3.append(labels2[i])\n",
    "    elif anomalies[i] == False:\n",
    "        data3.append(data2[i])\n",
    "        labels3.append(labels2[i])"
   ]
  },
  {
   "cell_type": "code",
   "execution_count": 325,
   "metadata": {},
   "outputs": [
    {
     "data": {
      "image/png": "[encoded data removed]",
      "text/plain": [
       "<matplotlib.figure.Figure at 0x11e9b6c18>"
      ]
     },
     "metadata": {},
     "output_type": "display_data"
    }
   ],
   "source": [
    "plot_anomalies_data(data3, labels3, anomalies_data, anomalies_labels)"
   ]
  },
  {
   "cell_type": "code",
   "execution_count": 330,
   "metadata": {
    "collapsed": true
   },
   "outputs": [],
   "source": [
    "from scipy.interpolate import spline\n",
    "\n",
    "def anomaly_border(data3, labels3, anomalies_data, anomalies_labels, data2, label_mod):   \n",
    "    plt.plot(anomalies_data, anomalies_labels, 'ro')\n",
    "    plt.plot(data3, labels3, 'bo')\n",
    "    \n",
    "    xnew = np.linspace(min(data2),max(data2),len(data2))\n",
    "    label_smooth = spline(data2,label_mod,xnew)\n",
    "    plt.plot(xnew,label_smooth)\n",
    "    \n",
    "    plt.show()"
   ]
  },
  {
   "cell_type": "code",
   "execution_count": 331,
   "metadata": {
    "collapsed": true
   },
   "outputs": [],
   "source": [
    "label_mod = []\n",
    "for i in range(len(labels2)):\n",
    "    label_mod.append(labels2[i]+threshold)"
   ]
  },
  {
   "cell_type": "code",
   "execution_count": 332,
   "metadata": {},
   "outputs": [
    {
     "name": "stderr",
     "output_type": "stream",
     "text": [
      "/Users/subhangiagarwala/anaconda/lib/python3.6/site-packages/ipykernel_launcher.py:8: DeprecationWarning: `spline` is deprecated!\n",
      "spline is deprecated in scipy 0.19.0, use Bspline class instead.\n",
      "  \n"
     ]
    },
    {
     "data": {
      "image/png": "[encoded data removed]",
      "text/plain": [
       "<matplotlib.figure.Figure at 0x11e7c0c88>"
      ]
     },
     "metadata": {},
     "output_type": "display_data"
    }
   ],
   "source": [
    "anomaly_border(data3, labels3, anomalies_data, anomalies_labels, data2, label_mod)"
   ]
  },
  {
   "cell_type": "code",
   "execution_count": null,
   "metadata": {
    "collapsed": true
   },
   "outputs": [],
   "source": []
  }
 ],
 "metadata": {
  "kernelspec": {
   "display_name": "Python 3",
   "language": "python",
   "name": "python3"
  },
  "language_info": {
   "codemirror_mode": {
    "name": "ipython",
    "version": 3
   },
   "file_extension": ".py",
   "mimetype": "text/x-python",
   "name": "python",
   "nbconvert_exporter": "python",
   "pygments_lexer": "ipython3",
   "version": "3.6.1"
  }
 },
 "nbformat": 4,
 "nbformat_minor": 1
}
